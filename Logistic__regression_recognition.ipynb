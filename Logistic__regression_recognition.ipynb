{
  "nbformat": 4,
  "nbformat_minor": 0,
  "metadata": {
    "colab": {
      "provenance": []
    },
    "kernelspec": {
      "name": "python3",
      "display_name": "Python 3"
    },
    "language_info": {
      "name": "python"
    }
  },
  "cells": [
    {
      "cell_type": "code",
      "execution_count": 4,
      "metadata": {
        "id": "HhDLUw23u65c"
      },
      "outputs": [],
      "source": [
        "#importing the packages\n",
        "import numpy as np\n",
        "import pandas as pd\n",
        "import matplotlib.pyplot as plt\n",
        "from sklearn.metrics import classification_report,confusion_matrix\n",
        "from sklearn.linear_model import LogisticRegression\n",
        "from sklearn.preprocessing import StandardScaler\n",
        "from sklearn.model_selection import train_test_split\n",
        "from sklearn.datasets import load_digits\n"
      ]
    },
    {
      "cell_type": "code",
      "source": [
        "#get data directly from scikit-learn\n",
        "X, y = load_digits(return_X_y=True)"
      ],
      "metadata": {
        "id": "47dhS54Bwheu"
      },
      "execution_count": 5,
      "outputs": []
    },
    {
      "cell_type": "code",
      "source": [
        "X.shape , y.shape"
      ],
      "metadata": {
        "colab": {
          "base_uri": "https://localhost:8080/"
        },
        "id": "LO1T4VvnyxYM",
        "outputId": "0569b262-8e96-4305-90e2-5ad671d8ce0c"
      },
      "execution_count": 6,
      "outputs": [
        {
          "output_type": "execute_result",
          "data": {
            "text/plain": [
              "((1797, 64), (1797,))"
            ]
          },
          "metadata": {},
          "execution_count": 6
        }
      ]
    },
    {
      "cell_type": "code",
      "source": [
        "X[0], y[0]"
      ],
      "metadata": {
        "colab": {
          "base_uri": "https://localhost:8080/"
        },
        "id": "9ShpP6I7zMVa",
        "outputId": "eaffcf1c-e08b-43c8-ce69-23d19b887dbe"
      },
      "execution_count": 19,
      "outputs": [
        {
          "output_type": "execute_result",
          "data": {
            "text/plain": [
              "(array([ 0.,  0.,  5., 13.,  9.,  1.,  0.,  0.,  0.,  0., 13., 15., 10.,\n",
              "        15.,  5.,  0.,  0.,  3., 15.,  2.,  0., 11.,  8.,  0.,  0.,  4.,\n",
              "        12.,  0.,  0.,  8.,  8.,  0.,  0.,  5.,  8.,  0.,  0.,  9.,  8.,\n",
              "         0.,  0.,  4., 11.,  0.,  1., 12.,  7.,  0.,  0.,  2., 14.,  5.,\n",
              "        10., 12.,  0.,  0.,  0.,  0.,  6., 13., 10.,  0.,  0.,  0.]), 0)"
            ]
          },
          "metadata": {},
          "execution_count": 19
        }
      ]
    },
    {
      "cell_type": "code",
      "source": [
        "X_train,X_test,y_train,y_test = train_test_split(X,y,test_size=0.5,random_state=0)"
      ],
      "metadata": {
        "id": "sYRhyHxZz6ai"
      },
      "execution_count": 20,
      "outputs": []
    },
    {
      "cell_type": "code",
      "source": [
        "X_train[0], np.mean(X_train[0]), np.std(X_train[0])\n",
        "     "
      ],
      "metadata": {
        "colab": {
          "base_uri": "https://localhost:8080/"
        },
        "id": "7O06XILQ1ySN",
        "outputId": "dced488f-05ca-4a7b-cfb2-b7ee99c1ca28"
      },
      "execution_count": 21,
      "outputs": [
        {
          "output_type": "execute_result",
          "data": {
            "text/plain": [
              "(array([ 0.,  0.,  1., 12., 10.,  3.,  0.,  0.,  0.,  0.,  7., 16., 16.,\n",
              "         7.,  0.,  0.,  0.,  0., 12., 16., 16.,  3.,  0.,  0.,  0.,  0.,\n",
              "        14., 16., 16.,  2.,  0.,  0.,  0.,  1., 15., 16., 16.,  5.,  0.,\n",
              "         0.,  0.,  0., 15., 16., 15.,  2.,  0.,  0.,  0.,  0., 11., 16.,\n",
              "        16.,  8.,  0.,  0.,  0.,  0.,  1.,  7., 12., 10.,  0.,  0.]),\n",
              " 5.453125,\n",
              " 6.616574093469747)"
            ]
          },
          "metadata": {},
          "execution_count": 21
        }
      ]
    },
    {
      "cell_type": "code",
      "source": [
        "scaler = StandardScaler()\n",
        "X_train = scaler.fit_transform(X_train)\n",
        "     "
      ],
      "metadata": {
        "id": "Co64J_QB3DMl"
      },
      "execution_count": 22,
      "outputs": []
    },
    {
      "cell_type": "code",
      "source": [
        "X_train[0], np.mean(X_train[0]), np.std(X_train[0])"
      ],
      "metadata": {
        "colab": {
          "base_uri": "https://localhost:8080/"
        },
        "id": "83n94tTZ3Myd",
        "outputId": "c2af90b3-01ec-4098-ac80-b385d20374a9"
      },
      "execution_count": 23,
      "outputs": [
        {
          "output_type": "execute_result",
          "data": {
            "text/plain": [
              "(array([ 0.        , -0.33909743, -0.84688888,  0.05482959, -0.43816862,\n",
              "        -0.48004253, -0.38979278, -0.13222862, -0.06318997, -0.61627349,\n",
              "        -0.58641731,  0.96491198,  1.16387138, -0.19972684, -0.51999189,\n",
              "        -0.12765957, -0.03338903, -0.70342101,  0.40501097,  1.53361441,\n",
              "         1.41715732, -0.79435104, -0.56567674, -0.11762525, -0.03338903,\n",
              "        -0.78238272,  0.7949161 ,  1.25272389,  0.98452445, -0.9497941 ,\n",
              "        -0.65670643, -0.03338903,  0.        , -0.40563056,  1.13807573,\n",
              "         1.06836806,  0.93362032, -0.62827871, -0.83019095,  0.        ,\n",
              "        -0.06607232, -0.5375342 ,  1.19757009,  1.29965899,  1.13135421,\n",
              "        -1.08452686, -0.75016027, -0.10348465, -0.0503716 , -0.41044865,\n",
              "         0.5995096 ,  1.20560823,  1.22857215, -0.08867082, -0.71289013,\n",
              "        -0.20692566, -0.03338903, -0.3004699 , -0.86146763, -1.12213945,\n",
              "         0.05360588,  0.60060782, -0.48879987, -0.17724876]),\n",
              " 0.011872013072994958,\n",
              " 0.7250331346605874)"
            ]
          },
          "metadata": {},
          "execution_count": 23
        }
      ]
    },
    {
      "cell_type": "code",
      "source": [
        "#create a model and train it\n",
        "model = LogisticRegression(C=0.05, multi_class='ovr',random_state=0)\n",
        "model.fit(X_train, y_train)"
      ],
      "metadata": {
        "colab": {
          "base_uri": "https://localhost:8080/",
          "height": 73
        },
        "id": "4rCKnJGP3Xp2",
        "outputId": "79979b20-2dee-44fe-b7aa-28b503a7e01d"
      },
      "execution_count": 24,
      "outputs": [
        {
          "output_type": "execute_result",
          "data": {
            "text/plain": [
              "LogisticRegression(C=0.05, multi_class='ovr', random_state=0)"
            ],
            "text/html": [
              "<style>#sk-container-id-1 {color: black;background-color: white;}#sk-container-id-1 pre{padding: 0;}#sk-container-id-1 div.sk-toggleable {background-color: white;}#sk-container-id-1 label.sk-toggleable__label {cursor: pointer;display: block;width: 100%;margin-bottom: 0;padding: 0.3em;box-sizing: border-box;text-align: center;}#sk-container-id-1 label.sk-toggleable__label-arrow:before {content: \"▸\";float: left;margin-right: 0.25em;color: #696969;}#sk-container-id-1 label.sk-toggleable__label-arrow:hover:before {color: black;}#sk-container-id-1 div.sk-estimator:hover label.sk-toggleable__label-arrow:before {color: black;}#sk-container-id-1 div.sk-toggleable__content {max-height: 0;max-width: 0;overflow: hidden;text-align: left;background-color: #f0f8ff;}#sk-container-id-1 div.sk-toggleable__content pre {margin: 0.2em;color: black;border-radius: 0.25em;background-color: #f0f8ff;}#sk-container-id-1 input.sk-toggleable__control:checked~div.sk-toggleable__content {max-height: 200px;max-width: 100%;overflow: auto;}#sk-container-id-1 input.sk-toggleable__control:checked~label.sk-toggleable__label-arrow:before {content: \"▾\";}#sk-container-id-1 div.sk-estimator input.sk-toggleable__control:checked~label.sk-toggleable__label {background-color: #d4ebff;}#sk-container-id-1 div.sk-label input.sk-toggleable__control:checked~label.sk-toggleable__label {background-color: #d4ebff;}#sk-container-id-1 input.sk-hidden--visually {border: 0;clip: rect(1px 1px 1px 1px);clip: rect(1px, 1px, 1px, 1px);height: 1px;margin: -1px;overflow: hidden;padding: 0;position: absolute;width: 1px;}#sk-container-id-1 div.sk-estimator {font-family: monospace;background-color: #f0f8ff;border: 1px dotted black;border-radius: 0.25em;box-sizing: border-box;margin-bottom: 0.5em;}#sk-container-id-1 div.sk-estimator:hover {background-color: #d4ebff;}#sk-container-id-1 div.sk-parallel-item::after {content: \"\";width: 100%;border-bottom: 1px solid gray;flex-grow: 1;}#sk-container-id-1 div.sk-label:hover label.sk-toggleable__label {background-color: #d4ebff;}#sk-container-id-1 div.sk-serial::before {content: \"\";position: absolute;border-left: 1px solid gray;box-sizing: border-box;top: 0;bottom: 0;left: 50%;z-index: 0;}#sk-container-id-1 div.sk-serial {display: flex;flex-direction: column;align-items: center;background-color: white;padding-right: 0.2em;padding-left: 0.2em;position: relative;}#sk-container-id-1 div.sk-item {position: relative;z-index: 1;}#sk-container-id-1 div.sk-parallel {display: flex;align-items: stretch;justify-content: center;background-color: white;position: relative;}#sk-container-id-1 div.sk-item::before, #sk-container-id-1 div.sk-parallel-item::before {content: \"\";position: absolute;border-left: 1px solid gray;box-sizing: border-box;top: 0;bottom: 0;left: 50%;z-index: -1;}#sk-container-id-1 div.sk-parallel-item {display: flex;flex-direction: column;z-index: 1;position: relative;background-color: white;}#sk-container-id-1 div.sk-parallel-item:first-child::after {align-self: flex-end;width: 50%;}#sk-container-id-1 div.sk-parallel-item:last-child::after {align-self: flex-start;width: 50%;}#sk-container-id-1 div.sk-parallel-item:only-child::after {width: 0;}#sk-container-id-1 div.sk-dashed-wrapped {border: 1px dashed gray;margin: 0 0.4em 0.5em 0.4em;box-sizing: border-box;padding-bottom: 0.4em;background-color: white;}#sk-container-id-1 div.sk-label label {font-family: monospace;font-weight: bold;display: inline-block;line-height: 1.2em;}#sk-container-id-1 div.sk-label-container {text-align: center;}#sk-container-id-1 div.sk-container {/* jupyter's `normalize.less` sets `[hidden] { display: none; }` but bootstrap.min.css set `[hidden] { display: none !important; }` so we also need the `!important` here to be able to override the default hidden behavior on the sphinx rendered scikit-learn.org. See: https://github.com/scikit-learn/scikit-learn/issues/21755 */display: inline-block !important;position: relative;}#sk-container-id-1 div.sk-text-repr-fallback {display: none;}</style><div id=\"sk-container-id-1\" class=\"sk-top-container\"><div class=\"sk-text-repr-fallback\"><pre>LogisticRegression(C=0.05, multi_class=&#x27;ovr&#x27;, random_state=0)</pre><b>In a Jupyter environment, please rerun this cell to show the HTML representation or trust the notebook. <br />On GitHub, the HTML representation is unable to render, please try loading this page with nbviewer.org.</b></div><div class=\"sk-container\" hidden><div class=\"sk-item\"><div class=\"sk-estimator sk-toggleable\"><input class=\"sk-toggleable__control sk-hidden--visually\" id=\"sk-estimator-id-1\" type=\"checkbox\" checked><label for=\"sk-estimator-id-1\" class=\"sk-toggleable__label sk-toggleable__label-arrow\">LogisticRegression</label><div class=\"sk-toggleable__content\"><pre>LogisticRegression(C=0.05, multi_class=&#x27;ovr&#x27;, random_state=0)</pre></div></div></div></div></div>"
            ]
          },
          "metadata": {},
          "execution_count": 24
        }
      ]
    },
    {
      "cell_type": "code",
      "source": [
        "X_test = scaler.transform(X_test)\n",
        "y_pred = model.predict(X_test)"
      ],
      "metadata": {
        "id": "HsTw3fzs3dGO"
      },
      "execution_count": 25,
      "outputs": []
    },
    {
      "cell_type": "code",
      "source": [
        "model.score(X_train, y_train)"
      ],
      "metadata": {
        "colab": {
          "base_uri": "https://localhost:8080/"
        },
        "id": "RmGYn_A54RHM",
        "outputId": "c60fcee8-8b15-4d64-cb89-eb79ad74a4a0"
      },
      "execution_count": 26,
      "outputs": [
        {
          "output_type": "execute_result",
          "data": {
            "text/plain": [
              "0.9743875278396437"
            ]
          },
          "metadata": {},
          "execution_count": 26
        }
      ]
    },
    {
      "cell_type": "code",
      "source": [
        "confusion_matrix(y_test,y_pred)"
      ],
      "metadata": {
        "colab": {
          "base_uri": "https://localhost:8080/"
        },
        "id": "zreb1mWo4zO-",
        "outputId": "9e0b113f-e519-49c1-da5c-8bfd56d1d5ac"
      },
      "execution_count": 27,
      "outputs": [
        {
          "output_type": "execute_result",
          "data": {
            "text/plain": [
              "array([[ 89,   0,   0,   0,   0,   0,   0,   0,   0,   0],\n",
              "       [  0,  83,   1,   0,   1,   0,   1,   0,   1,   3],\n",
              "       [  0,   1,  89,   0,   0,   0,   0,   2,   0,   0],\n",
              "       [  0,   0,   1,  86,   0,   1,   0,   2,   2,   1],\n",
              "       [  0,   0,   0,   0,  73,   0,   0,   2,   1,   0],\n",
              "       [  0,   0,   0,   0,   0, 103,   1,   0,   0,   4],\n",
              "       [  0,   1,   0,   0,   1,   0,  87,   0,   0,   0],\n",
              "       [  0,   0,   0,   0,   0,   0,   0,  78,   0,   0],\n",
              "       [  0,   3,   2,   2,   0,   2,   1,   0,  78,   4],\n",
              "       [  0,   0,   0,   2,   0,   2,   0,   2,   2,  84]])"
            ]
          },
          "metadata": {},
          "execution_count": 27
        }
      ]
    },
    {
      "cell_type": "code",
      "source": [
        "print(classification_report(y_test, y_pred))"
      ],
      "metadata": {
        "id": "qxsj4QtZ5MYQ",
        "outputId": "0ed83ff6-7142-40cd-aeae-4d9dac06249b",
        "colab": {
          "base_uri": "https://localhost:8080/"
        }
      },
      "execution_count": 28,
      "outputs": [
        {
          "output_type": "stream",
          "name": "stdout",
          "text": [
            "              precision    recall  f1-score   support\n",
            "\n",
            "           0       1.00      1.00      1.00        89\n",
            "           1       0.94      0.92      0.93        90\n",
            "           2       0.96      0.97      0.96        92\n",
            "           3       0.96      0.92      0.94        93\n",
            "           4       0.97      0.96      0.97        76\n",
            "           5       0.95      0.95      0.95       108\n",
            "           6       0.97      0.98      0.97        89\n",
            "           7       0.91      1.00      0.95        78\n",
            "           8       0.93      0.85      0.89        92\n",
            "           9       0.88      0.91      0.89        92\n",
            "\n",
            "    accuracy                           0.95       899\n",
            "   macro avg       0.95      0.95      0.95       899\n",
            "weighted avg       0.95      0.95      0.95       899\n",
            "\n"
          ]
        }
      ]
    }
  ]
}