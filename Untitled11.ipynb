{
  "nbformat": 4,
  "nbformat_minor": 0,
  "metadata": {
    "colab": {
      "provenance": [],
      "authorship_tag": "ABX9TyNCP4OESKDJrMkLZvH4TiAW",
      "include_colab_link": true
    },
    "kernelspec": {
      "name": "python3",
      "display_name": "Python 3"
    },
    "language_info": {
      "name": "python"
    }
  },
  "cells": [
    {
      "cell_type": "markdown",
      "metadata": {
        "id": "view-in-github",
        "colab_type": "text"
      },
      "source": [
        "<a href=\"https://colab.research.google.com/github/SreeDeekshithaEswaran/FML1/blob/main/Untitled11.ipynb\" target=\"_parent\"><img src=\"https://colab.research.google.com/assets/colab-badge.svg\" alt=\"Open In Colab\"/></a>"
      ]
    },
    {
      "cell_type": "code",
      "execution_count": null,
      "metadata": {
        "id": "kG3vzZXx-DOa"
      },
      "outputs": [],
      "source": [
        "import torch \n",
        "import torch.nn as nn\n",
        "import torchvision\n",
        "import torchvision.transforms as transforms\n",
        "import matplotlib.pyplot as plt"
      ]
    },
    {
      "cell_type": "code",
      "source": [
        "input_size= 784 #28*28\n",
        "hidden_size=500\n",
        "num_classes=10\n",
        "num_epochs=2\n",
        "batch_size 100\n",
        "learning_rate=0.001"
      ],
      "metadata": {
        "id": "yfGjM6IC_N5F"
      },
      "execution_count": null,
      "outputs": []
    },
    {
      "cell_type": "markdown",
      "source": [
        "Loading MNIST dataset from Pytorch"
      ],
      "metadata": {
        "id": "KlgET9ksAptF"
      }
    },
    {
      "cell_type": "code",
      "source": [
        "train_dataset= torchvision.datasets.MNIST(root='./data', train=True,transform=transforms,download=True)\n",
        "test_dataset=torchvision.datasets.MNIST(root='./data',train=False,transform=transforms)"
      ],
      "metadata": {
        "id": "35Rvx3SR_wd9"
      },
      "execution_count": null,
      "outputs": []
    },
    {
      "cell_type": "markdown",
      "source": [
        "Importing the dataloader& specifying batch usage"
      ],
      "metadata": {
        "id": "EW4S4QPEAyHy"
      }
    },
    {
      "cell_type": "code",
      "source": [
        "train_loader=torch.util.data.DataLoader(dataset=train_dataset,batch_size=batch,shuffle=True)\n",
        "test_loader=torch.util.data.DataLoader(dataset=test_dataset,batch_size=batch,shuffle=False)"
      ],
      "metadata": {
        "id": "UEYFPnExAoVl"
      },
      "execution_count": null,
      "outputs": []
    },
    {
      "cell_type": "code",
      "source": [
        "examples=iter(test_loader)\n",
        "example_data,example_targets=examples.next()\n",
        "for i in range(6):\n",
        "  plt.subplot(2,3,i+1)\n",
        "  plt.imshow(example_data[i][0],cmap='gray')\n",
        "  plt.show()"
      ],
      "metadata": {
        "id": "JrFiqGHhBZen"
      },
      "execution_count": null,
      "outputs": []
    },
    {
      "cell_type": "code",
      "source": [
        "class NeuralNet(nn.module):\n",
        "  def__init__(self, input_size,hidden_size,num_classes):\n",
        "    super(NeutralNet,self).__init__()\n",
        "    self.input_size=input_size\n",
        "    self.l1=nn.Linear(input_size,hidden_size)\n",
        "    self.relu=nn.ReLU()\n",
        "    self.l2=nn.Linear(hidden_size,num_classes)"
      ],
      "metadata": {
        "id": "L0Xe5U_UB53P"
      },
      "execution_count": null,
      "outputs": []
    },
    {
      "cell_type": "code",
      "source": [
        "def forward(self,x):\n",
        "  out=self.l1(x)\n",
        "  out=self.relu(out)\n",
        "  out=self.l2(out)\n",
        "  return out"
      ],
      "metadata": {
        "id": "FX1yNXu0Cpyy"
      },
      "execution_count": null,
      "outputs": []
    },
    {
      "cell_type": "markdown",
      "source": [
        "Creating our model"
      ],
      "metadata": {
        "id": "FlqYF0TZC8LE"
      }
    },
    {
      "cell_type": "code",
      "source": [
        "model=NeuralNet(input_size,hidden_size,num_classes).to(device)"
      ],
      "metadata": {
        "id": "shtycvtNC_O8"
      },
      "execution_count": null,
      "outputs": []
    },
    {
      "cell_type": "markdown",
      "source": [
        "Adam Optimizer"
      ],
      "metadata": {
        "id": "xBC5rLvGDJ9F"
      }
    },
    {
      "cell_type": "code",
      "source": [
        "criterion=nn.CrossEntropyLoss()\n",
        "optimizer=torch.optim.Adam(model.parameters(),lr=learning_rate)"
      ],
      "metadata": {
        "id": "_t3_XMG0DJR8"
      },
      "execution_count": null,
      "outputs": []
    },
    {
      "cell_type": "markdown",
      "source": [
        "Creating a training loop"
      ],
      "metadata": {
        "id": "Oztxz1MtDaNg"
      }
    },
    {
      "cell_type": "code",
      "source": [
        "n_total_steps=len(train_loader)\n",
        "for epoch in range(num_epochs):\n",
        "  for i, (images,labels) in enumerate(train_loader):\n",
        "    images=images.reshape(-1,28*28).to(device)\n",
        "    labels=labels.to(device)\n",
        "    outputs=model(images)\n",
        "    loss=criterion(outputs,labels)\n",
        "    optimizer.zero_grad()\n",
        "    loss.backward()\n",
        "    optimizer.step()    "
      ],
      "metadata": {
        "id": "QNWKGuFkDc8G"
      },
      "execution_count": null,
      "outputs": []
    },
    {
      "cell_type": "markdown",
      "source": [
        "printing loss at every 100th step"
      ],
      "metadata": {
        "id": "yAZTDhKQEVcK"
      }
    },
    {
      "cell_type": "code",
      "source": [
        "if (i+1)%100==0:\n",
        "  print(f'Epoch[{epoch+1}/{num_epochs}],Step[{i+1}/{n_total_steps}],Loss:{loss.item():.4f}')"
      ],
      "metadata": {
        "id": "jVKKl04jEZT5"
      },
      "execution_count": null,
      "outputs": []
    },
    {
      "cell_type": "markdown",
      "source": [
        "Final testing of the model and evaluating accuracy"
      ],
      "metadata": {
        "id": "KqPtB0OCE6DA"
      }
    },
    {
      "cell_type": "code",
      "source": [
        "with torch.no_grad():\n",
        "  n_correct=0\n",
        "  n_samples=0\n",
        "  for images,labels in test_loader: \n",
        "    images=images.reshape(-1,28*28).to(device)\n",
        "    labels=labels.to(device)\n",
        "    _,predicted=torch.max(outputs.data,1)\n",
        "    n_samples +=labels.size(0)\n",
        "    n_correct +=(predicted==labels).sum().item()"
      ],
      "metadata": {
        "id": "8SH5GB4pFANf"
      },
      "execution_count": null,
      "outputs": []
    }
  ]
}