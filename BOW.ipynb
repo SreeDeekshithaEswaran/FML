{
  "nbformat": 4,
  "nbformat_minor": 0,
  "metadata": {
    "colab": {
      "provenance": []
    },
    "kernelspec": {
      "name": "python3",
      "display_name": "Python 3"
    },
    "language_info": {
      "name": "python"
    }
  },
  "cells": [
    {
      "cell_type": "code",
      "execution_count": 21,
      "metadata": {
        "id": "QD60erd4BkI4"
      },
      "outputs": [],
      "source": [
        "import pandas as pd\n",
        "import numpy as np"
      ]
    },
    {
      "cell_type": "code",
      "source": [
        "doc1 = 'Game of Thrones is an amazing tv series!'\n",
        "doc2 = 'Game of Thrones is the best tv series!'\n",
        "doc3 = 'Game of Thrones is so great'"
      ],
      "metadata": {
        "id": "uF9HN740B5YA"
      },
      "execution_count": 22,
      "outputs": []
    },
    {
      "cell_type": "code",
      "source": [
        "from sklearn.feature_extraction.text import CountVectorizer\n",
        "vectorizer = CountVectorizer()\n",
        "X = vectorizer.fit_transform([doc1,doc2,doc3])\n",
        "#print(X)\n",
        "print(vectorizer.get_feature_names_out())"
      ],
      "metadata": {
        "colab": {
          "base_uri": "https://localhost:8080/"
        },
        "id": "GSkAyLWuB6qJ",
        "outputId": "42b75e5e-c0ae-4533-86f8-f97329aa69a1"
      },
      "execution_count": 23,
      "outputs": [
        {
          "output_type": "stream",
          "name": "stdout",
          "text": [
            "['amazing' 'an' 'best' 'game' 'great' 'is' 'of' 'series' 'so' 'the'\n",
            " 'thrones' 'tv']\n"
          ]
        }
      ]
    },
    {
      "cell_type": "code",
      "source": [
        "df_bow_sklearn = pd.DataFrame(X.toarray(),columns=vectorizer.get_feature_names_out())\n",
        "print(df_bow_sklearn.head())"
      ],
      "metadata": {
        "colab": {
          "base_uri": "https://localhost:8080/"
        },
        "id": "9KIrI7lRB9UF",
        "outputId": "eb6f0e78-14e3-4e5d-b799-879638482af9"
      },
      "execution_count": 24,
      "outputs": [
        {
          "output_type": "stream",
          "name": "stdout",
          "text": [
            "   amazing  an  best  game  great  is  of  series  so  the  thrones  tv\n",
            "0        1   1     0     1      0   1   1       1   0    0        1   1\n",
            "1        0   0     1     1      0   1   1       1   0    1        1   1\n",
            "2        0   0     0     1      1   1   1       0   1    0        1   0\n"
          ]
        }
      ]
    }
  ]
}